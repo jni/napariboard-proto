{
 "cells": [
  {
   "cell_type": "markdown",
   "metadata": {},
   "source": [
    "# Noise2Self for Neural Nets\n",
    "\n",
    "This is a simple notebook demonstrating the principle of self-supervision to train denoising networks, together with napari for visualization of the training process.\n",
    "\n",
    "For didactic purposes, we use a simple dataset (Gaussian noise on MNIST), a simple model (a small UNet), and a short training (100 iterations on a CPU). This notebook runs on a MacBook Pro in under one minute.\n",
    "\n",
    "We start by launching the Jupyter/Qt integration for napari:"
   ]
  },
  {
   "cell_type": "code",
   "execution_count": 1,
   "metadata": {},
   "outputs": [],
   "source": [
    "%gui qt"
   ]
  },
  {
   "cell_type": "code",
   "execution_count": 2,
   "metadata": {},
   "outputs": [],
   "source": [
    "import os\n",
    "os.environ['NAPARI_ASYNC'] = '1'"
   ]
  },
  {
   "cell_type": "markdown",
   "metadata": {},
   "source": [
    "# Data"
   ]
  },
  {
   "cell_type": "markdown",
   "metadata": {},
   "source": [
    "We demonstrate the use of a self-supervised denoising objective on a synthetically noised version of MNIST.\n",
    "\n",
    "First, we load the data using torchvision's built-in MNIST tools:"
   ]
  },
  {
   "cell_type": "code",
   "execution_count": 3,
   "metadata": {},
   "outputs": [],
   "source": [
    "import numpy as np\n",
    "\n",
    "from torchvision.datasets import MNIST\n",
    "from torchvision import transforms\n",
    "from torch.utils.data import Dataset\n",
    "\n",
    "mnist_train = MNIST(\n",
    "    'data/MNIST', \n",
    "    download=True,\n",
    "    transform=transforms.Compose([transforms.ToTensor()]),\n",
    "    train=True\n",
    ")\n",
    "\n",
    "mnist_test = MNIST(\n",
    "    'data/MNIST',\n",
    "    download=True,\n",
    "    transform=transforms.Compose([transforms.ToTensor()]),\n",
    "    train = False\n",
    ")"
   ]
  },
  {
   "cell_type": "markdown",
   "metadata": {},
   "source": [
    "Then we synthetically add high noise using `torch`:"
   ]
  },
  {
   "cell_type": "code",
   "execution_count": 4,
   "metadata": {},
   "outputs": [],
   "source": [
    "from torch import randn\n",
    "\n",
    "def add_noise(img):\n",
    "    return img + randn(img.size())*0.4\n",
    "\n",
    "class SyntheticNoiseDataset(Dataset):\n",
    "    def __init__(self, data, mode='train'):\n",
    "        self.mode = mode\n",
    "        self.data = data\n",
    "        \n",
    "    def __len__(self):\n",
    "        return len(self.data)\n",
    "    \n",
    "    def __getitem__(self, index):\n",
    "        img = self.data[index][0]\n",
    "        return add_noise(img), img"
   ]
  },
  {
   "cell_type": "code",
   "execution_count": 5,
   "metadata": {},
   "outputs": [],
   "source": [
    "noisy_mnist_train = SyntheticNoiseDataset(mnist_train, 'train')\n",
    "noisy_mnist_test = SyntheticNoiseDataset(mnist_test, 'test')"
   ]
  },
  {
   "cell_type": "markdown",
   "metadata": {},
   "source": [
    "We will try to learn to predict the clean image on the right *only* from the noisy image on the left."
   ]
  },
  {
   "cell_type": "code",
   "execution_count": 6,
   "metadata": {},
   "outputs": [
    {
     "data": {
      "image/png": "[encoded data removed]",
      "image/svg+xml": [
       "<?xml version=\"1.0\" encoding=\"utf-8\" standalone=\"no\"?>\n",
       "<!DOCTYPE svg PUBLIC \"-//W3C//DTD SVG 1.1//EN\"\n",
       "  \"http://www.w3.org/Graphics/SVG/1.1/DTD/svg11.dtd\">\n",
       "<!-- Created with matplotlib (https://matplotlib.org/) -->\n",
       "<svg height=\"181.699943pt\" version=\"1.1\" viewBox=\"0 0 349.2 181.699943\" width=\"349.2pt\" xmlns=\"http://www.w3.org/2000/svg\" xmlns:xlink=\"http://www.w3.org/1999/xlink\">\n",
       " <defs>\n",
       "  <style type=\"text/css\">\n",
       "*{stroke-linecap:butt;stroke-linejoin:round;}\n",
       "  </style>\n",
       " </defs>\n",
       " <g id=\"figure_1\">\n",
       "  <g id=\"patch_1\">\n",
       "   <path d=\"M 0 181.699943 \n",
       "L 349.2 181.699943 \n",
       "L 349.2 0 \n",
       "L 0 0 \n",
       "z\n",
       "\" style=\"fill:none;\"/>\n",
       "  </g>\n",
       "  <g id=\"axes_1\">\n",
       "   <g clip-path=\"url(#p88dc34a2cf)\">\n",
       "    <image height=\"153\" id=\"imaged979a1f03c\" transform=\"scale(1 -1)translate(0 -153)\" width=\"153\" x=\"7.2\" xlink:href=\"data:image/png;base64,\n",
       "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\" y=\"-21.499943\"/>\n",
       "   </g>\n",
       "   <g id=\"text_1\">\n",
       "    <!-- Noisy Image -->\n",
       "    <defs>\n",
       "     <path d=\"M 9.8125 72.90625 \n",
       "L 23.09375 72.90625 \n",
       "L 55.421875 11.921875 \n",
       "L 55.421875 72.90625 \n",
       "L 64.984375 72.90625 \n",
       "L 64.984375 0 \n",
       "L 51.703125 0 \n",
       "L 19.390625 60.984375 \n",
       "L 19.390625 0 \n",
       "L 9.8125 0 \n",
       "z\n",
       "\" id=\"DejaVuSans-78\"/>\n",
       "     <path d=\"M 30.609375 48.390625 \n",
       "Q 23.390625 48.390625 19.1875 42.75 \n",
       "Q 14.984375 37.109375 14.984375 27.296875 \n",
       "Q 14.984375 17.484375 19.15625 11.84375 \n",
       "Q 23.34375 6.203125 30.609375 6.203125 \n",
       "Q 37.796875 6.203125 41.984375 11.859375 \n",
       "Q 46.1875 17.53125 46.1875 27.296875 \n",
       "Q 46.1875 37.015625 41.984375 42.703125 \n",
       "Q 37.796875 48.390625 30.609375 48.390625 \n",
       "z\n",
       "M 30.609375 56 \n",
       "Q 42.328125 56 49.015625 48.375 \n",
       "Q 55.71875 40.765625 55.71875 27.296875 \n",
       "Q 55.71875 13.875 49.015625 6.21875 \n",
       "Q 42.328125 -1.421875 30.609375 -1.421875 \n",
       "Q 18.84375 -1.421875 12.171875 6.21875 \n",
       "Q 5.515625 13.875 5.515625 27.296875 \n",
       "Q 5.515625 40.765625 12.171875 48.375 \n",
       "Q 18.84375 56 30.609375 56 \n",
       "z\n",
       "\" id=\"DejaVuSans-111\"/>\n",
       "     <path d=\"M 9.421875 54.6875 \n",
       "L 18.40625 54.6875 \n",
       "L 18.40625 0 \n",
       "L 9.421875 0 \n",
       "z\n",
       "M 9.421875 75.984375 \n",
       "L 18.40625 75.984375 \n",
       "L 18.40625 64.59375 \n",
       "L 9.421875 64.59375 \n",
       "z\n",
       "\" id=\"DejaVuSans-105\"/>\n",
       "     <path d=\"M 44.28125 53.078125 \n",
       "L 44.28125 44.578125 \n",
       "Q 40.484375 46.53125 36.375 47.5 \n",
       "Q 32.28125 48.484375 27.875 48.484375 \n",
       "Q 21.1875 48.484375 17.84375 46.4375 \n",
       "Q 14.5 44.390625 14.5 40.28125 \n",
       "Q 14.5 37.15625 16.890625 35.375 \n",
       "Q 19.28125 33.59375 26.515625 31.984375 \n",
       "L 29.59375 31.296875 \n",
       "Q 39.15625 29.25 43.1875 25.515625 \n",
       "Q 47.21875 21.78125 47.21875 15.09375 \n",
       "Q 47.21875 7.46875 41.1875 3.015625 \n",
       "Q 35.15625 -1.421875 24.609375 -1.421875 \n",
       "Q 20.21875 -1.421875 15.453125 -0.5625 \n",
       "Q 10.6875 0.296875 5.421875 2 \n",
       "L 5.421875 11.28125 \n",
       "Q 10.40625 8.6875 15.234375 7.390625 \n",
       "Q 20.0625 6.109375 24.8125 6.109375 \n",
       "Q 31.15625 6.109375 34.5625 8.28125 \n",
       "Q 37.984375 10.453125 37.984375 14.40625 \n",
       "Q 37.984375 18.0625 35.515625 20.015625 \n",
       "Q 33.0625 21.96875 24.703125 23.78125 \n",
       "L 21.578125 24.515625 \n",
       "Q 13.234375 26.265625 9.515625 29.90625 \n",
       "Q 5.8125 33.546875 5.8125 39.890625 \n",
       "Q 5.8125 47.609375 11.28125 51.796875 \n",
       "Q 16.75 56 26.8125 56 \n",
       "Q 31.78125 56 36.171875 55.265625 \n",
       "Q 40.578125 54.546875 44.28125 53.078125 \n",
       "z\n",
       "\" id=\"DejaVuSans-115\"/>\n",
       "     <path d=\"M 32.171875 -5.078125 \n",
       "Q 28.375 -14.84375 24.75 -17.8125 \n",
       "Q 21.140625 -20.796875 15.09375 -20.796875 \n",
       "L 7.90625 -20.796875 \n",
       "L 7.90625 -13.28125 \n",
       "L 13.1875 -13.28125 \n",
       "Q 16.890625 -13.28125 18.9375 -11.515625 \n",
       "Q 21 -9.765625 23.484375 -3.21875 \n",
       "L 25.09375 0.875 \n",
       "L 2.984375 54.6875 \n",
       "L 12.5 54.6875 \n",
       "L 29.59375 11.921875 \n",
       "L 46.6875 54.6875 \n",
       "L 56.203125 54.6875 \n",
       "z\n",
       "\" id=\"DejaVuSans-121\"/>\n",
       "     <path id=\"DejaVuSans-32\"/>\n",
       "     <path d=\"M 9.8125 72.90625 \n",
       "L 19.671875 72.90625 \n",
       "L 19.671875 0 \n",
       "L 9.8125 0 \n",
       "z\n",
       "\" id=\"DejaVuSans-73\"/>\n",
       "     <path d=\"M 52 44.1875 \n",
       "Q 55.375 50.25 60.0625 53.125 \n",
       "Q 64.75 56 71.09375 56 \n",
       "Q 79.640625 56 84.28125 50.015625 \n",
       "Q 88.921875 44.046875 88.921875 33.015625 \n",
       "L 88.921875 0 \n",
       "L 79.890625 0 \n",
       "L 79.890625 32.71875 \n",
       "Q 79.890625 40.578125 77.09375 44.375 \n",
       "Q 74.3125 48.1875 68.609375 48.1875 \n",
       "Q 61.625 48.1875 57.5625 43.546875 \n",
       "Q 53.515625 38.921875 53.515625 30.90625 \n",
       "L 53.515625 0 \n",
       "L 44.484375 0 \n",
       "L 44.484375 32.71875 \n",
       "Q 44.484375 40.625 41.703125 44.40625 \n",
       "Q 38.921875 48.1875 33.109375 48.1875 \n",
       "Q 26.21875 48.1875 22.15625 43.53125 \n",
       "Q 18.109375 38.875 18.109375 30.90625 \n",
       "L 18.109375 0 \n",
       "L 9.078125 0 \n",
       "L 9.078125 54.6875 \n",
       "L 18.109375 54.6875 \n",
       "L 18.109375 46.1875 \n",
       "Q 21.1875 51.21875 25.484375 53.609375 \n",
       "Q 29.78125 56 35.6875 56 \n",
       "Q 41.65625 56 45.828125 52.96875 \n",
       "Q 50 49.953125 52 44.1875 \n",
       "z\n",
       "\" id=\"DejaVuSans-109\"/>\n",
       "     <path d=\"M 34.28125 27.484375 \n",
       "Q 23.390625 27.484375 19.1875 25 \n",
       "Q 14.984375 22.515625 14.984375 16.5 \n",
       "Q 14.984375 11.71875 18.140625 8.90625 \n",
       "Q 21.296875 6.109375 26.703125 6.109375 \n",
       "Q 34.1875 6.109375 38.703125 11.40625 \n",
       "Q 43.21875 16.703125 43.21875 25.484375 \n",
       "L 43.21875 27.484375 \n",
       "z\n",
       "M 52.203125 31.203125 \n",
       "L 52.203125 0 \n",
       "L 43.21875 0 \n",
       "L 43.21875 8.296875 \n",
       "Q 40.140625 3.328125 35.546875 0.953125 \n",
       "Q 30.953125 -1.421875 24.3125 -1.421875 \n",
       "Q 15.921875 -1.421875 10.953125 3.296875 \n",
       "Q 6 8.015625 6 15.921875 \n",
       "Q 6 25.140625 12.171875 29.828125 \n",
       "Q 18.359375 34.515625 30.609375 34.515625 \n",
       "L 43.21875 34.515625 \n",
       "L 43.21875 35.40625 \n",
       "Q 43.21875 41.609375 39.140625 45 \n",
       "Q 35.0625 48.390625 27.6875 48.390625 \n",
       "Q 23 48.390625 18.546875 47.265625 \n",
       "Q 14.109375 46.140625 10.015625 43.890625 \n",
       "L 10.015625 52.203125 \n",
       "Q 14.9375 54.109375 19.578125 55.046875 \n",
       "Q 24.21875 56 28.609375 56 \n",
       "Q 40.484375 56 46.34375 49.84375 \n",
       "Q 52.203125 43.703125 52.203125 31.203125 \n",
       "z\n",
       "\" id=\"DejaVuSans-97\"/>\n",
       "     <path d=\"M 45.40625 27.984375 \n",
       "Q 45.40625 37.75 41.375 43.109375 \n",
       "Q 37.359375 48.484375 30.078125 48.484375 \n",
       "Q 22.859375 48.484375 18.828125 43.109375 \n",
       "Q 14.796875 37.75 14.796875 27.984375 \n",
       "Q 14.796875 18.265625 18.828125 12.890625 \n",
       "Q 22.859375 7.515625 30.078125 7.515625 \n",
       "Q 37.359375 7.515625 41.375 12.890625 \n",
       "Q 45.40625 18.265625 45.40625 27.984375 \n",
       "z\n",
       "M 54.390625 6.78125 \n",
       "Q 54.390625 -7.171875 48.1875 -13.984375 \n",
       "Q 42 -20.796875 29.203125 -20.796875 \n",
       "Q 24.46875 -20.796875 20.265625 -20.09375 \n",
       "Q 16.0625 -19.390625 12.109375 -17.921875 \n",
       "L 12.109375 -9.1875 \n",
       "Q 16.0625 -11.328125 19.921875 -12.34375 \n",
       "Q 23.78125 -13.375 27.78125 -13.375 \n",
       "Q 36.625 -13.375 41.015625 -8.765625 \n",
       "Q 45.40625 -4.15625 45.40625 5.171875 \n",
       "L 45.40625 9.625 \n",
       "Q 42.625 4.78125 38.28125 2.390625 \n",
       "Q 33.9375 0 27.875 0 \n",
       "Q 17.828125 0 11.671875 7.65625 \n",
       "Q 5.515625 15.328125 5.515625 27.984375 \n",
       "Q 5.515625 40.671875 11.671875 48.328125 \n",
       "Q 17.828125 56 27.875 56 \n",
       "Q 33.9375 56 38.28125 53.609375 \n",
       "Q 42.625 51.21875 45.40625 46.390625 \n",
       "L 45.40625 54.6875 \n",
       "L 54.390625 54.6875 \n",
       "z\n",
       "\" id=\"DejaVuSans-103\"/>\n",
       "     <path d=\"M 56.203125 29.59375 \n",
       "L 56.203125 25.203125 \n",
       "L 14.890625 25.203125 \n",
       "Q 15.484375 15.921875 20.484375 11.0625 \n",
       "Q 25.484375 6.203125 34.421875 6.203125 \n",
       "Q 39.59375 6.203125 44.453125 7.46875 \n",
       "Q 49.3125 8.734375 54.109375 11.28125 \n",
       "L 54.109375 2.78125 \n",
       "Q 49.265625 0.734375 44.1875 -0.34375 \n",
       "Q 39.109375 -1.421875 33.890625 -1.421875 \n",
       "Q 20.796875 -1.421875 13.15625 6.1875 \n",
       "Q 5.515625 13.8125 5.515625 26.8125 \n",
       "Q 5.515625 40.234375 12.765625 48.109375 \n",
       "Q 20.015625 56 32.328125 56 \n",
       "Q 43.359375 56 49.78125 48.890625 \n",
       "Q 56.203125 41.796875 56.203125 29.59375 \n",
       "z\n",
       "M 47.21875 32.234375 \n",
       "Q 47.125 39.59375 43.09375 43.984375 \n",
       "Q 39.0625 48.390625 32.421875 48.390625 \n",
       "Q 24.90625 48.390625 20.390625 44.140625 \n",
       "Q 15.875 39.890625 15.1875 32.171875 \n",
       "z\n",
       "\" id=\"DejaVuSans-101\"/>\n",
       "    </defs>\n",
       "    <g transform=\"translate(46.088097 16.318125)scale(0.12 -0.12)\">\n",
       "     <use xlink:href=\"#DejaVuSans-78\"/>\n",
       "     <use x=\"74.804688\" xlink:href=\"#DejaVuSans-111\"/>\n",
       "     <use x=\"135.986328\" xlink:href=\"#DejaVuSans-105\"/>\n",
       "     <use x=\"163.769531\" xlink:href=\"#DejaVuSans-115\"/>\n",
       "     <use x=\"215.869141\" xlink:href=\"#DejaVuSans-121\"/>\n",
       "     <use x=\"275.048828\" xlink:href=\"#DejaVuSans-32\"/>\n",
       "     <use x=\"306.835938\" xlink:href=\"#DejaVuSans-73\"/>\n",
       "     <use x=\"336.328125\" xlink:href=\"#DejaVuSans-109\"/>\n",
       "     <use x=\"433.740234\" xlink:href=\"#DejaVuSans-97\"/>\n",
       "     <use x=\"495.019531\" xlink:href=\"#DejaVuSans-103\"/>\n",
       "     <use x=\"558.496094\" xlink:href=\"#DejaVuSans-101\"/>\n",
       "    </g>\n",
       "   </g>\n",
       "  </g>\n",
       "  <g id=\"axes_2\">\n",
       "   <g clip-path=\"url(#pec529d138d)\">\n",
       "    <image height=\"153\" id=\"image5a8f1f7013\" transform=\"scale(1 -1)translate(0 -153)\" width=\"153\" x=\"189.818182\" xlink:href=\"data:image/png;base64,\n",
       "iVBORw0KGgoAAAANSUhEUgAAAJkAAACZCAYAAAA8XJi6AAAABHNCSVQICAgIfAhkiAAABTBJREFUeJzt3b1LW30YxvFfH6WDrS/YQaFQxA6KFin4BlIqUlAQhfo2OHR1Ep1cCoKLIogOQQfpUPA/UFwUQduhIIraDoWCkwiOBjRKxZdneZaH+44kTS6b6PczXtw5+aEXP87hJCePQgg3ARD6528vAPcfJYMcJYMcJYMcJYMcJYMcJYMcJYMcJYMcJYMcJYMcJYMcJYMcJYMcJYNcrurAk5OTJhsZGUn5uD9//jTZ8vKyO3t5eWmy6elpdzYajaa2MMTFTgY5SgY5SgY5SgY5Sga5R0H0baXGxkaTxbu6bGhoMNnz58/TvqYQQjg7O3PzSCRisomJCZPFYrG0r+m+YyeDHCWDHCWDHCWDnOzEPxnFxcUmm5+fd2dfv35tsvLy8rSvKYQQvn37ZrJ4t6VWVlZMdn5+nvY1ZSN2MshRMshRMshRMshRMshlxNVlMkpKSkxWVVXlzs7OzpqssrIy7WsKIYTNzU2TTU1NubOLi4smu76+TvuaMgU7GeQoGeQoGeQoGeSy7sQ/GaWlpSbr7+93ZwcHB01WVlaW7iWFEELY3t422fj4uDu7tLQkWcNdYieDHCWDHCWDHCWDHCWD3L2+ukxGRUWFybwrzu7ubvf13pVsMq6urtx8bW3NZO3t7Sm9111jJ4McJYMcJYMcJYMcJ/5JqqmpcfPe3l6T1dfXu7Otra0Jv9+PHz9MVltb685m6mfS2MkgR8kgR8kgR8kgR8kgx9XlX/D792+T5eb6T7v3HhPf1tbmzm5sbKS0LhV2MshRMshRMshRMsjJflvpoSkqKjJZZ2enO5uTk5Pwcb9+/WqyTD3Bj4edDHKUDHKUDHKUDHKUDHJcXSbp1atXbj4zM2Oyd+/eJXzceI+Uj/eMjGzCTgY5SgY5SgY5SgY5Tvxv0dXVZbLPnz+7s/n5+Qkf9+PHjyZbWFhwZ4+OjhI+bqZiJ4McJYMcJYMcJYMcJYMc31b6z8uXL022s7Njsmg06r5+fX3dZN6j1EMIYW5uzmQ3N/f338BOBjlKBjlKBjlKBrkHd1vpyZMnbv7p0yeTPX361GR9fX3u61dXV1Nb2D3GTgY5SgY5SgY5Sga5B3fiPzY25ubNzc0m+/Lli8m8n6HB7djJIEfJIEfJIEfJIEfJIHcvri4LCgrc/OTkxGSFhYUJH9e71ZSpv1+UydjJIEfJIEfJIEfJIJd1XyR5//69yTo6OtzZ3d1dk0UikYTfa29vz2Rv3751Z2OxmMmqq6vd2eHhYZMNDAwkvK5sw04GOUoGOUoGOUoGOUoGuYy9uiwuLnbzzc1Nk5WXl6uXc+v7h+A/vqClpcWdvbi4MFkyt7uyDTsZ5CgZ5CgZ5CgZ5DL282QvXrxw82fPnt3xSv6vsbEx5WPk5to/+4cPH9zZ09PThI/rPSn7+PjYnf3161fCx00VOxnkKBnkKBnkKBnkKBnkMva2UjzeVefjx4/d2aamJpO9efPGnS0qKjJZT09Pkqv7c4eHh26+tbVlMu83n0LwPzj5/ft3d3Z0dNRkGxsbt6zwz7GTQY6SQY6SQY6SQS5jbyvFc3BwkPDs/v6+yeL9eGlOTo7JUv2M1+DgoJvn5eWZrKKiwp0dGhoymfd5tBBC6O/vN1ldXZ076z30jxN/ZC1KBjlKBjlKBjlKBrmsu62E7MNOBjlKBjlKBjlKBjlKBjlKBjlKBjlKBjlKBjlKBjlKBjlKBjlKBjlKBjlKBjlKBjlKBjlKBjlKBjlKBjlKBjlKBjlKBjlKBjlKBjlKBrl/Aeku6WFzDv6eAAAAAElFTkSuQmCC\" y=\"-21.499943\"/>\n",
       "   </g>\n",
       "   <g id=\"text_2\">\n",
       "    <!-- Clean Image -->\n",
       "    <defs>\n",
       "     <path d=\"M 64.40625 67.28125 \n",
       "L 64.40625 56.890625 \n",
       "Q 59.421875 61.53125 53.78125 63.8125 \n",
       "Q 48.140625 66.109375 41.796875 66.109375 \n",
       "Q 29.296875 66.109375 22.65625 58.46875 \n",
       "Q 16.015625 50.828125 16.015625 36.375 \n",
       "Q 16.015625 21.96875 22.65625 14.328125 \n",
       "Q 29.296875 6.6875 41.796875 6.6875 \n",
       "Q 48.140625 6.6875 53.78125 8.984375 \n",
       "Q 59.421875 11.28125 64.40625 15.921875 \n",
       "L 64.40625 5.609375 \n",
       "Q 59.234375 2.09375 53.4375 0.328125 \n",
       "Q 47.65625 -1.421875 41.21875 -1.421875 \n",
       "Q 24.65625 -1.421875 15.125 8.703125 \n",
       "Q 5.609375 18.84375 5.609375 36.375 \n",
       "Q 5.609375 53.953125 15.125 64.078125 \n",
       "Q 24.65625 74.21875 41.21875 74.21875 \n",
       "Q 47.75 74.21875 53.53125 72.484375 \n",
       "Q 59.328125 70.75 64.40625 67.28125 \n",
       "z\n",
       "\" id=\"DejaVuSans-67\"/>\n",
       "     <path d=\"M 9.421875 75.984375 \n",
       "L 18.40625 75.984375 \n",
       "L 18.40625 0 \n",
       "L 9.421875 0 \n",
       "z\n",
       "\" id=\"DejaVuSans-108\"/>\n",
       "     <path d=\"M 54.890625 33.015625 \n",
       "L 54.890625 0 \n",
       "L 45.90625 0 \n",
       "L 45.90625 32.71875 \n",
       "Q 45.90625 40.484375 42.875 44.328125 \n",
       "Q 39.84375 48.1875 33.796875 48.1875 \n",
       "Q 26.515625 48.1875 22.3125 43.546875 \n",
       "Q 18.109375 38.921875 18.109375 30.90625 \n",
       "L 18.109375 0 \n",
       "L 9.078125 0 \n",
       "L 9.078125 54.6875 \n",
       "L 18.109375 54.6875 \n",
       "L 18.109375 46.1875 \n",
       "Q 21.34375 51.125 25.703125 53.5625 \n",
       "Q 30.078125 56 35.796875 56 \n",
       "Q 45.21875 56 50.046875 50.171875 \n",
       "Q 54.890625 44.34375 54.890625 33.015625 \n",
       "z\n",
       "\" id=\"DejaVuSans-110\"/>\n",
       "    </defs>\n",
       "    <g transform=\"translate(228.182216 16.318125)scale(0.12 -0.12)\">\n",
       "     <use xlink:href=\"#DejaVuSans-67\"/>\n",
       "     <use x=\"69.824219\" xlink:href=\"#DejaVuSans-108\"/>\n",
       "     <use x=\"97.607422\" xlink:href=\"#DejaVuSans-101\"/>\n",
       "     <use x=\"159.130859\" xlink:href=\"#DejaVuSans-97\"/>\n",
       "     <use x=\"220.410156\" xlink:href=\"#DejaVuSans-110\"/>\n",
       "     <use x=\"283.789062\" xlink:href=\"#DejaVuSans-32\"/>\n",
       "     <use x=\"315.576172\" xlink:href=\"#DejaVuSans-73\"/>\n",
       "     <use x=\"345.068359\" xlink:href=\"#DejaVuSans-109\"/>\n",
       "     <use x=\"442.480469\" xlink:href=\"#DejaVuSans-97\"/>\n",
       "     <use x=\"503.759766\" xlink:href=\"#DejaVuSans-103\"/>\n",
       "     <use x=\"567.236328\" xlink:href=\"#DejaVuSans-101\"/>\n",
       "    </g>\n",
       "   </g>\n",
       "  </g>\n",
       " </g>\n",
       " <defs>\n",
       "  <clipPath id=\"p88dc34a2cf\">\n",
       "   <rect height=\"152.181818\" width=\"152.181818\" x=\"7.2\" y=\"22.318125\"/>\n",
       "  </clipPath>\n",
       "  <clipPath id=\"pec529d138d\">\n",
       "   <rect height=\"152.181818\" width=\"152.181818\" x=\"189.818182\" y=\"22.318125\"/>\n",
       "  </clipPath>\n",
       " </defs>\n",
       "</svg>\n"
      ],
      "text/plain": [
       "<Figure size 432x288 with 2 Axes>"
      ]
     },
     "metadata": {
      "image/png": {
       "height": 182,
       "width": 349
      },
      "needs_background": "light"
     },
     "output_type": "display_data"
    }
   ],
   "source": [
    "import matplotlib.pyplot as plt\n",
    "\n",
    "noisy, clean = noisy_mnist_train[0]\n",
    "\n",
    "fig, ax = plt.subplots(1, 2)\n",
    "\n",
    "ax[0].imshow(noisy[0], cmap='gray')\n",
    "ax[0].set_title('Noisy Image')\n",
    "ax[0].set_axis_off()\n",
    "ax[1].imshow(clean[0], cmap='gray')\n",
    "ax[1].set_title('Clean Image')\n",
    "ax[1].set_axis_off()"
   ]
  },
  {
   "cell_type": "markdown",
   "metadata": {},
   "source": [
    "# Masking\n",
    "\n",
    "The strategy is to train a $J$-invariant version of a neural net by replacing a grid of pixels with the average of their neighbors, then only evaluating the model on the masked pixels. Thus, we try to predict masked values from their surround — the masked pixels themselves contain none of their original information."
   ]
  },
  {
   "cell_type": "code",
   "execution_count": 7,
   "metadata": {},
   "outputs": [],
   "source": [
    "from mask import Masker\n",
    "masker = Masker(width=4, mode='interpolate')"
   ]
  },
  {
   "cell_type": "code",
   "execution_count": 8,
   "metadata": {},
   "outputs": [],
   "source": [
    "net_input, mask = masker.mask(noisy.unsqueeze(0), 0)"
   ]
  },
  {
   "cell_type": "markdown",
   "metadata": {},
   "source": [
    "# Model"
   ]
  },
  {
   "cell_type": "markdown",
   "metadata": {},
   "source": [
    "For our model, we use a short UNet with two levels of up- and down- sampling"
   ]
  },
  {
   "cell_type": "code",
   "execution_count": 9,
   "metadata": {},
   "outputs": [],
   "source": [
    "from models.babyunet import BabyUnet\n",
    "model = BabyUnet()"
   ]
  },
  {
   "cell_type": "markdown",
   "metadata": {},
   "source": [
    "# Training"
   ]
  },
  {
   "cell_type": "code",
   "execution_count": 10,
   "metadata": {},
   "outputs": [],
   "source": [
    "from torch.nn import MSELoss\n",
    "from torch.optim import Adam\n",
    "from torch.utils.data import DataLoader\n",
    "\n",
    "loss_function = MSELoss()\n",
    "optimizer = Adam(model.parameters(), lr=0.001)"
   ]
  },
  {
   "cell_type": "markdown",
   "metadata": {},
   "source": [
    "# Visualization"
   ]
  },
  {
   "cell_type": "markdown",
   "metadata": {},
   "source": [
    "We lazily convert the torch tensors to NumPy arrays and concatenate them into dask arrays containing all the data. We do this for the training (noisy) data, the ground truth, and the model output.\n",
    "\n",
    "There's a bit of reshaping because torch data comes with extra dimensions that we want to squeeze out, to only get a `(nsamples, size_y, size_x)` volume.\n",
    "\n",
    "Finally, because of a [performance issue with `dask.array.stack`](https://github.com/dask/dask/issues/5913), we convert the input data to a non-lazy numpy array for the moment."
   ]
  },
  {
   "cell_type": "code",
   "execution_count": 11,
   "metadata": {},
   "outputs": [],
   "source": [
    "from dask import array as da, delayed\n",
    "\n",
    "@delayed\n",
    "def get_noisy_test_image(i):\n",
    "    return (\n",
    "        noisy_mnist_test[i][0].detach().numpy().reshape((28, 28))\n",
    "    )\n",
    "\n",
    "@delayed\n",
    "def get_clean_test_image(i):\n",
    "    return (\n",
    "        noisy_mnist_test[i][1].detach().numpy().reshape((28, 28))\n",
    "    )\n",
    "\n",
    "\n",
    "noisy_test_dask = da.stack(\n",
    "    [\n",
    "        da.from_delayed(\n",
    "            get_noisy_test_image(i),\n",
    "            shape=(1, 28, 28),\n",
    "            dtype=np.float32\n",
    "        ).reshape((28, 28))\n",
    "        for i in range(len(noisy_mnist_test))\n",
    "    ]\n",
    ")\n",
    "noisy_test = np.array(noisy_test_dask)\n",
    "\n",
    "\n",
    "clean_test_dask = da.stack(\n",
    "    [\n",
    "        da.from_delayed(\n",
    "            get_clean_test_image(i),\n",
    "            shape=(1, 28, 28),\n",
    "            dtype=np.float32\n",
    "        ).reshape((28, 28))\n",
    "        for i in range(len(noisy_mnist_test))\n",
    "    ]\n",
    ")\n",
    "clean_test = np.array(clean_test_dask)"
   ]
  },
  {
   "cell_type": "markdown",
   "metadata": {},
   "source": [
    "We do the same for the output of our neural net model, but we don't convert to NumPy — we need to dynamically recompute this as the model is refined:"
   ]
  },
  {
   "cell_type": "code",
   "execution_count": 12,
   "metadata": {},
   "outputs": [],
   "source": [
    "import torch\n",
    "\n",
    "@delayed\n",
    "def test_numpy_to_result_numpy(i):\n",
    "    \"\"\"Convert test NumPy array to model output and back to NumPy.\"\"\"\n",
    "    out = model(\n",
    "        torch.Tensor(np.array(noisy_test_dask[i:i+1, np.newaxis]))\n",
    "    ).detach().numpy().squeeze()\n",
    "    return out\n",
    "\n",
    "# build the results dask array\n",
    "model_output_dask = da.stack(\n",
    "    [\n",
    "        da.from_delayed(\n",
    "            test_numpy_to_result_numpy(i),\n",
    "            shape=(28, 28),\n",
    "            dtype=np.float32\n",
    "        )\n",
    "        for i in range(len(noisy_mnist_test))\n",
    "    ]\n",
    ")"
   ]
  },
  {
   "cell_type": "markdown",
   "metadata": {},
   "source": [
    "We then build the napari viewer to see all three volumes simultaneously in grid view:"
   ]
  },
  {
   "cell_type": "code",
   "execution_count": 13,
   "metadata": {},
   "outputs": [],
   "source": [
    "import napari\n",
    "\n",
    "\n",
    "viewer = napari.Viewer()\n",
    "_ = viewer.add_image(clean_test)  # returns layer, we don't care\n",
    "_ = viewer.add_image(noisy_test)  # returns layer, we don't care\n",
    "model_layer = viewer.add_image(\n",
    "    model_output_dask,\n",
    "    colormap='magma',\n",
    ")  # this layer though, we're gonna play with\n",
    "viewer.grid_view()"
   ]
  },
  {
   "cell_type": "markdown",
   "metadata": {},
   "source": [
    "We turn off dask caching because we want the model to re-evaluate each time we view a model output."
   ]
  },
  {
   "cell_type": "code",
   "execution_count": 14,
   "metadata": {},
   "outputs": [
    {
     "data": {
      "text/plain": [
       "<dask.cache.Cache at 0x7f89ab5b0910>"
      ]
     },
     "execution_count": 14,
     "metadata": {},
     "output_type": "execute_result"
    }
   ],
   "source": [
    "from napari.utils import resize_dask_cache\n",
    "resize_dask_cache(0)"
   ]
  },
  {
   "cell_type": "markdown",
   "metadata": {},
   "source": [
    "We build a training loss plot. The dark style for matplotlib is a better fit for napari."
   ]
  },
  {
   "cell_type": "code",
   "execution_count": null,
   "metadata": {},
   "outputs": [],
   "source": [
    "from matplotlib.backends.backend_qt5agg import FigureCanvas\n",
    "from matplotlib.figure import Figure\n",
    "\n",
    "NUM_ITER = 100\n",
    "\n",
    "\n",
    "# build the plot, but don't display it yet\n",
    "# — we'll add it to the napari viewer later\n",
    "with plt.style.context('dark_background'):\n",
    "    loss_canvas = FigureCanvas(Figure(figsize=(5, 3)))\n",
    "    loss_axes = loss_canvas.figure.subplots()\n",
    "    lines = loss_axes.plot([], [])  # make empty plot\n",
    "    loss_axes.set_xlim(0, NUM_ITER)\n",
    "    loss_axes.set_xlabel('batch number')\n",
    "    loss_axes.set_ylabel('loss')\n",
    "    loss_canvas.figure.tight_layout()\n",
    "    loss_line = lines[0]"
   ]
  },
  {
   "cell_type": "markdown",
   "metadata": {},
   "source": [
    "Napari's threading utilities, created by Talley Lambert, allow *yielding* of values during a thread's execution, and connecting those yielded values to callbacks. Below, we create callbacks to update the loss plot and the displayed model output:"
   ]
  },
  {
   "cell_type": "code",
   "execution_count": null,
   "metadata": {},
   "outputs": [],
   "source": [
    "# when getting a new loss, update the plot\n",
    "def update_plot(loss):\n",
    "    x, y = loss_line.get_data()\n",
    "    new_y = np.append(y, loss)\n",
    "    new_x = np.arange(len(new_y))\n",
    "    loss_line.set_data(new_x, new_y)\n",
    "    loss_axes.set_ylim(\n",
    "        np.min(new_y) * (-0.05), np.max(new_y) * (1.05)\n",
    "    )\n",
    "    loss_canvas.draw()\n",
    "\n",
    "\n",
    "# and update the model output layer\n",
    "def update_viewer(loss):\n",
    "    model_layer.refresh()\n",
    "    viewer.help = f'loss: {loss}'"
   ]
  },
  {
   "cell_type": "markdown",
   "metadata": {},
   "source": [
    "We then do two things to a standard PyTorch training loop:\n",
    "\n",
    "- we wrap it in a function with the `@thread_worker` decorator\n",
    "- inside the function, we yield the loss value after each training batch"
   ]
  },
  {
   "cell_type": "code",
   "execution_count": null,
   "metadata": {},
   "outputs": [],
   "source": [
    "from napari.qt import thread_worker\n",
    "\n",
    "\n",
    "# define a function to train the model in a new thread,\n",
    "# connecting the yielded loss values to our update functions\n",
    "@thread_worker(connect={'yielded': [update_viewer, update_plot]})\n",
    "def train(model, data_loader, n_iter):\n",
    "\n",
    "    for i, batch in zip(range(n_iter), data_loader):\n",
    "        noisy_images, clean_images = batch\n",
    "\n",
    "        net_input, mask = masker.mask(noisy_images, i)\n",
    "        net_output = model(net_input)\n",
    "\n",
    "        loss = loss_function(net_output*mask, noisy_images*mask)\n",
    "\n",
    "        optimizer.zero_grad()\n",
    "\n",
    "        loss.backward()\n",
    "\n",
    "        optimizer.step()\n",
    "\n",
    "        yield round(loss.item(), 4)"
   ]
  },
  {
   "cell_type": "markdown",
   "metadata": {},
   "source": [
    "Finally, we create the PyTorch DataLoader, add the loss plot to our viewer, and start training! You should be able to see the model output refine over time, while simultaneously browsing through the whole test dataset."
   ]
  },
  {
   "cell_type": "code",
   "execution_count": null,
   "metadata": {},
   "outputs": [],
   "source": [
    "# finally, add the plot to the viewer, and start training!\n",
    "data_loader = DataLoader(noisy_mnist_train, batch_size=32, shuffle=True)\n",
    "\n",
    "viewer.window.add_dock_widget(loss_canvas)\n",
    "worker = train(model, data_loader, NUM_ITER)"
   ]
  },
  {
   "cell_type": "markdown",
   "metadata": {},
   "source": [
    "The final cell embeds the final state of the viewer for illustration only — for some yet-to-be-understood reason, *you should **NOT** run the cell until the training is finished*, or the whole update breaks."
   ]
  },
  {
   "cell_type": "code",
   "execution_count": null,
   "metadata": {},
   "outputs": [],
   "source": [
    "from napari.utils import nbscreenshot\n",
    "\n",
    "nbscreenshot(viewer)"
   ]
  }
 ],
 "metadata": {
  "kernelspec": {
   "display_name": "Python 3",
   "language": "python",
   "name": "python3"
  },
  "language_info": {
   "codemirror_mode": {
    "name": "ipython",
    "version": 3
   },
   "file_extension": ".py",
   "mimetype": "text/x-python",
   "name": "python",
   "nbconvert_exporter": "python",
   "pygments_lexer": "ipython3",
   "version": "3.8.2"
  }
 },
 "nbformat": 4,
 "nbformat_minor": 2
}
